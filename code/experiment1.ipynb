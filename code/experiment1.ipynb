{
 "cells": [
  {
   "cell_type": "markdown",
   "metadata": {},
   "source": [
    "****BASIC EXPERIMENT****"
   ]
  },
  {
   "cell_type": "markdown",
   "metadata": {},
   "source": [
    "***BOSTON HOUSING***"
   ]
  },
  {
   "cell_type": "code",
   "execution_count": 493,
   "metadata": {},
   "outputs": [],
   "source": [
    "import numpy as np\n",
    "import matplotlib.pyplot as plt \n",
    "\n",
    "import pandas as pd  \n",
    "import seaborn as sns \n",
    "\n",
    "from sklearn.preprocessing import scale\n",
    "from sklearn.model_selection import train_test_split\n",
    "\n",
    "from sklearn.linear_model import LinearRegression\n",
    "from sklearn.metrics import mean_squared_error\n",
    "from sklearn import metrics\n",
    "from pylab import *\n",
    "\n",
    "\n",
    "%matplotlib inline"
   ]
  },
  {
   "cell_type": "code",
   "execution_count": 494,
   "metadata": {},
   "outputs": [],
   "source": [
    "from sklearn.datasets import load_boston\n",
    "boston_dataset = load_boston()"
   ]
  },
  {
   "cell_type": "code",
   "execution_count": 495,
   "metadata": {},
   "outputs": [],
   "source": [
    "boston = pd.DataFrame(boston_dataset.data, columns=boston_dataset.feature_names)\n",
    "# boston.head()"
   ]
  },
  {
   "cell_type": "code",
   "execution_count": 496,
   "metadata": {},
   "outputs": [],
   "source": [
    "boston['MEDV'] = boston_dataset.target\n",
    "# boston.head()"
   ]
  },
  {
   "cell_type": "code",
   "execution_count": 497,
   "metadata": {},
   "outputs": [],
   "source": [
    "X_boston = pd.DataFrame(boston_dataset.data, columns=boston_dataset.feature_names).values\n",
    "y_boston = boston['MEDV'] = boston_dataset.target"
   ]
  },
  {
   "cell_type": "code",
   "execution_count": 498,
   "metadata": {},
   "outputs": [],
   "source": [
    "X_boston = scale(X_boston)\n",
    "y_boston = scale(y_boston)"
   ]
  },
  {
   "cell_type": "code",
   "execution_count": 499,
   "metadata": {},
   "outputs": [
    {
     "data": {
      "text/plain": [
       "((340, 2), (60, 2), (340,), (60,))"
      ]
     },
     "execution_count": 499,
     "metadata": {},
     "output_type": "execute_result"
    }
   ],
   "source": [
    "X_boston_train, X_boston_test, Y_boston_train, Y_boston_test = train_test_split(X, y, test_size = 0.15, random_state=5)\n",
    "\n",
    "X_boston_train.shape, X_boston_test.shape, Y_boston_train.shape, Y_boston_test.shape"
   ]
  },
  {
   "cell_type": "code",
   "execution_count": 500,
   "metadata": {},
   "outputs": [
    {
     "data": {
      "text/plain": [
       "LinearRegression(copy_X=True, fit_intercept=True, n_jobs=None, normalize=False)"
      ]
     },
     "execution_count": 500,
     "metadata": {},
     "output_type": "execute_result"
    }
   ],
   "source": [
    "lin_model_boston = LinearRegression()\n",
    "lin_model_boston.fit(X_boston_train, Y_boston_train)"
   ]
  },
  {
   "cell_type": "code",
   "execution_count": 501,
   "metadata": {},
   "outputs": [],
   "source": [
    "predictions_boston = lin_model_boston.predict(X_boston_test)"
   ]
  },
  {
   "cell_type": "code",
   "execution_count": 502,
   "metadata": {},
   "outputs": [
    {
     "data": {
      "text/plain": [
       "0.7718031106544119"
      ]
     },
     "execution_count": 502,
     "metadata": {},
     "output_type": "execute_result"
    }
   ],
   "source": [
    "metrics.mean_squared_error(Y_boston_test, predictions_boston)"
   ]
  },
  {
   "cell_type": "markdown",
   "metadata": {},
   "source": [
    "***SERVO***"
   ]
  },
  {
   "cell_type": "code",
   "execution_count": 503,
   "metadata": {},
   "outputs": [],
   "source": [
    "def LoadData(url = \"https://raw.githubusercontent.com/ttgadaev/SampleSizeEstimation/master/datasets/servo.csv\",\n",
    "             path = None):\n",
    "    \"\"\"\n",
    "    return X, y\n",
    "    \"\"\"\n",
    "    if path is not None:\n",
    "        if os.path.exists(path):\n",
    "            data = pd.read_csv(path, header=0)\n",
    "        else:\n",
    "            data = pd.read_csv(url, header=0)\n",
    "            data.to_csv(path, header=True, index=False)\n",
    "    else:\n",
    "        data = pd.read_csv(url, header=0)\n",
    "\n",
    "    y = data['answer'].values\n",
    "    del data['answer']\n",
    "    X = data.values\n",
    "    return X, y\n",
    "\n",
    "X_servo, y_servo = LoadData(url = \"https://raw.githubusercontent.com/ttgadaev/SampleSizeEstimation/master/datasets/servo.csv\")\n",
    "\n",
    "X_servo[np.where(X_servo == 'A')] = 1\n",
    "X_servo[np.where(X_servo == 'B')] = 2\n",
    "X_servo[np.where(X_servo == 'C')] = 3\n",
    "X_servo[np.where(X_servo == 'D')] = 4\n",
    "X_servo[np.where(X_servo == 'E')] = 5\n",
    "X_servo = np.array(X_servo, dtype = np.float64)"
   ]
  },
  {
   "cell_type": "code",
   "execution_count": 504,
   "metadata": {},
   "outputs": [],
   "source": [
    "X_servo = scale(X_servo)\n",
    "y_servo = scale(y_servo)"
   ]
  },
  {
   "cell_type": "code",
   "execution_count": 505,
   "metadata": {},
   "outputs": [
    {
     "data": {
      "text/plain": [
       "((141, 4), (26, 4), (141,), (26,))"
      ]
     },
     "execution_count": 505,
     "metadata": {},
     "output_type": "execute_result"
    }
   ],
   "source": [
    "X_servo_train, X_servo_test, Y_servo_train, Y_servo_test = train_test_split(X_servo, y_servo, test_size = 0.15, random_state=5)\n",
    "\n",
    "X_servo_train.shape, X_servo_test.shape, Y_servo_train.shape, Y_servo_test.shape"
   ]
  },
  {
   "cell_type": "code",
   "execution_count": 506,
   "metadata": {},
   "outputs": [
    {
     "data": {
      "text/plain": [
       "LinearRegression(copy_X=True, fit_intercept=True, n_jobs=None, normalize=False)"
      ]
     },
     "execution_count": 506,
     "metadata": {},
     "output_type": "execute_result"
    }
   ],
   "source": [
    "lin_model_servo = LinearRegression()\n",
    "lin_model_servo.fit(X_servo_train, Y_servo_train)"
   ]
  },
  {
   "cell_type": "code",
   "execution_count": 507,
   "metadata": {},
   "outputs": [],
   "source": [
    "predictions_servo = lin_model_servo.predict(X_servo_test)"
   ]
  },
  {
   "cell_type": "code",
   "execution_count": 508,
   "metadata": {},
   "outputs": [
    {
     "data": {
      "text/plain": [
       "0.42145048133276725"
      ]
     },
     "execution_count": 508,
     "metadata": {},
     "output_type": "execute_result"
    }
   ],
   "source": [
    "metrics.mean_squared_error(Y_servo_test, predictions_servo)"
   ]
  },
  {
   "cell_type": "markdown",
   "metadata": {},
   "source": [
    "***TOGETHER WITH ZEROS***"
   ]
  },
  {
   "cell_type": "code",
   "execution_count": 509,
   "metadata": {},
   "outputs": [
    {
     "data": {
      "text/plain": [
       "((506, 17), (167, 17))"
      ]
     },
     "execution_count": 509,
     "metadata": {},
     "output_type": "execute_result"
    }
   ],
   "source": [
    "X1 = np.hstack([X_boston, np.zeros([X_boston.shape[0], X_servo.shape[1]])])\n",
    "X = np.hstack([np.zeros([X_servo.shape[0], X_boston.shape[1]]), X_servo])\n",
    "\n",
    "X1.shape, X.shape"
   ]
  },
  {
   "cell_type": "code",
   "execution_count": 510,
   "metadata": {},
   "outputs": [
    {
     "data": {
      "text/plain": [
       "(673, 17)"
      ]
     },
     "execution_count": 510,
     "metadata": {},
     "output_type": "execute_result"
    }
   ],
   "source": [
    "X_together = np.vstack([X1, X])\n",
    "X_together.shape"
   ]
  },
  {
   "cell_type": "code",
   "execution_count": 511,
   "metadata": {},
   "outputs": [
    {
     "data": {
      "text/plain": [
       "(673,)"
      ]
     },
     "execution_count": 511,
     "metadata": {},
     "output_type": "execute_result"
    }
   ],
   "source": [
    "y_together = np.hstack([y_boston, y_servo])\n",
    "y_together.shape"
   ]
  },
  {
   "cell_type": "code",
   "execution_count": 512,
   "metadata": {},
   "outputs": [
    {
     "name": "stdout",
     "output_type": "stream",
     "text": [
      "(567, 17)\n",
      "(106, 17)\n",
      "(567,)\n",
      "(106,)\n"
     ]
    }
   ],
   "source": [
    "X_together_train, X_together_test, y_together_train, y_together_test = train_test_split(X_together, y_together, test_size = 0.157, random_state=5)\n",
    "print(X_together_train.shape)\n",
    "print(X_together_test.shape)\n",
    "print(y_together_train.shape)\n",
    "print(y_together_test.shape)"
   ]
  },
  {
   "cell_type": "code",
   "execution_count": 513,
   "metadata": {},
   "outputs": [
    {
     "data": {
      "text/plain": [
       "LinearRegression(copy_X=True, fit_intercept=True, n_jobs=None, normalize=False)"
      ]
     },
     "execution_count": 513,
     "metadata": {},
     "output_type": "execute_result"
    }
   ],
   "source": [
    "lin_mod_together = LinearRegression()\n",
    "lin_mod_together.fit(X_together_train, y_together_train)"
   ]
  },
  {
   "cell_type": "code",
   "execution_count": 514,
   "metadata": {},
   "outputs": [],
   "source": [
    "predictions_together = lin_mod_together.predict(X_together_test)"
   ]
  },
  {
   "cell_type": "code",
   "execution_count": 515,
   "metadata": {},
   "outputs": [
    {
     "data": {
      "text/plain": [
       "0.3170653452132749"
      ]
     },
     "execution_count": 515,
     "metadata": {},
     "output_type": "execute_result"
    }
   ],
   "source": [
    "metrics.mean_squared_error(y_together_test, predictions_together)"
   ]
  },
  {
   "cell_type": "markdown",
   "metadata": {},
   "source": [
    "***TOGETHER WTIH RANDOM***"
   ]
  },
  {
   "cell_type": "code",
   "execution_count": 516,
   "metadata": {},
   "outputs": [
    {
     "data": {
      "text/plain": [
       "((506, 17), (167, 17))"
      ]
     },
     "execution_count": 516,
     "metadata": {},
     "output_type": "execute_result"
    }
   ],
   "source": [
    "np.random.seed(42)\n",
    "X3 = np.hstack([X_boston, np.random.randn(X_boston.shape[0], X_servo.shape[1])])\n",
    "X2 = np.hstack([np.random.randn(X_servo.shape[0], X_boston.shape[1]), X_servo])\n",
    "\n",
    "X3.shape, X2.shape"
   ]
  },
  {
   "cell_type": "code",
   "execution_count": 517,
   "metadata": {},
   "outputs": [
    {
     "data": {
      "text/plain": [
       "(673, 17)"
      ]
     },
     "execution_count": 517,
     "metadata": {},
     "output_type": "execute_result"
    }
   ],
   "source": [
    "X_random = np.vstack([X3, X])\n",
    "X_random.shape"
   ]
  },
  {
   "cell_type": "code",
   "execution_count": 518,
   "metadata": {},
   "outputs": [
    {
     "data": {
      "text/plain": [
       "(673,)"
      ]
     },
     "execution_count": 518,
     "metadata": {},
     "output_type": "execute_result"
    }
   ],
   "source": [
    "y_random = np.hstack([y_boston, y_servo])\n",
    "y_random.shape"
   ]
  },
  {
   "cell_type": "code",
   "execution_count": 519,
   "metadata": {},
   "outputs": [
    {
     "name": "stdout",
     "output_type": "stream",
     "text": [
      "(585, 17)\n",
      "(88, 17)\n",
      "(585,)\n",
      "(88,)\n"
     ]
    }
   ],
   "source": [
    "X_random_train, X_random_test, y_random_train, y_random_test = train_test_split(X_random, y_random, test_size = 0.13, random_state=5)\n",
    "print(X_random_train.shape)\n",
    "print(X_random_test.shape)\n",
    "print(y_random_train.shape)\n",
    "print(y_random_test.shape)"
   ]
  },
  {
   "cell_type": "code",
   "execution_count": 520,
   "metadata": {},
   "outputs": [
    {
     "data": {
      "text/plain": [
       "LinearRegression(copy_X=True, fit_intercept=True, n_jobs=None, normalize=False)"
      ]
     },
     "execution_count": 520,
     "metadata": {},
     "output_type": "execute_result"
    }
   ],
   "source": [
    "lin_mod_random = LinearRegression()\n",
    "lin_mod_random.fit(X_random_train, y_random_train)"
   ]
  },
  {
   "cell_type": "code",
   "execution_count": 521,
   "metadata": {},
   "outputs": [],
   "source": [
    "predictions_random = lin_mod_random.predict(X_random_test)"
   ]
  },
  {
   "cell_type": "code",
   "execution_count": 522,
   "metadata": {},
   "outputs": [
    {
     "data": {
      "text/plain": [
       "0.467673238972883"
      ]
     },
     "execution_count": 522,
     "metadata": {},
     "output_type": "execute_result"
    }
   ],
   "source": [
    "metrics.mean_squared_error(y_random_test, predictions_random)"
   ]
  },
  {
   "cell_type": "markdown",
   "metadata": {},
   "source": [
    "В данном эксперименте изучается проблема, когда выборка имеет не одну порождающую модель, а несколько. В качестве данных используются выборки из dataset'ов boston housing и servo. Выборки из каждого датасета сливаются в одну общую. В общем датасете первые $13$ признаков соответствуют признакам объектов из датасета boston housing, а остальные $4$ --- servo. \n",
    "\n",
    "В первом эксперименте для объектов из одного датасета признаки, соответсвующие другому датасету, берутся нулевыми. На общей выборке обучается линейная модель. Так как признаки объектов, соответствующие другому датасету, взяты нулевыми, то это никак не мешает моделе обучаться на общих данных. Точность предсказания при таком построении модели высока.\n",
    "\n",
    "Во втором эксперименте признаки объектов, не соответствующие датасету, берутся произвольным, то есть признаки становятся зашумленными, при этом все также используется одна общая модель. Такое построение выборки усложняет обучение общей модели, так как разделение объектов на принадлежность датасету становится труднее. Следствием этого является снижение точности предсказания. \n",
    "\n",
    "Таким образом, при построение модели для обучения нужно учитывать гипотезу порождения данных. Нередко оказывается, что данные порождены не одним источником, а несколькими. В этом случае лучше использовать мультимодель --- совокупность локальных моделей, где каждая локальная модель обрабатывает свою область признакового пространства (в одной области объекты имеют схожие признаки, объекты из разных областей имеют разные признаковые описания). "
   ]
  },
  {
   "cell_type": "markdown",
   "metadata": {},
   "source": [
    "****ILLUSTRATIONS****"
   ]
  },
  {
   "cell_type": "code",
   "execution_count": 523,
   "metadata": {},
   "outputs": [
    {
     "name": "stdout",
     "output_type": "stream",
     "text": [
      "[-0.08887538  0.07845686 -0.0071169   0.0814531  -0.20825835  0.30074671\n",
      " -0.01636862 -0.30908542  0.24326171 -0.20839034 -0.22207079  0.0811737\n",
      " -0.36413419 -0.21963216 -0.24290827 -0.93031477  0.38823075]\n"
     ]
    }
   ],
   "source": [
    "x11 = []\n",
    "x12 = []\n",
    "x21 = []\n",
    "x22 = []\n",
    "y1 = []\n",
    "y2 = []\n",
    "y1p = []\n",
    "y2p = []\n",
    "\n",
    "a = lin_mod_together.coef_[0]\n",
    "b = lin_mod_together.coef_[16]\n",
    "\n",
    "for i in range(0, len(X_together_train[:, 5])):\n",
    "    if (X_together_train[i,5] == 0):\n",
    "        x11.append(X_together_train[i, 5])\n",
    "        x12.append(X_together_train[i, 15])\n",
    "        y1.append(y_together_train[i])\n",
    "    else:\n",
    "        x21.append(X_together_train[i, 5])\n",
    "        x22.append(X_together_train[i, 15])\n",
    "        y2.append(y_together_train[i])\n",
    "print (lin_mod_together.coef_)"
   ]
  },
  {
   "cell_type": "code",
   "execution_count": 524,
   "metadata": {},
   "outputs": [],
   "source": [
    "import matplotlib.pyplot as plt\n",
    "from mpl_toolkits.mplot3d import Axes3D"
   ]
  },
  {
   "cell_type": "code",
   "execution_count": null,
   "metadata": {},
   "outputs": [],
   "source": [
    "\n"
   ]
  },
  {
   "cell_type": "code",
   "execution_count": 526,
   "metadata": {},
   "outputs": [],
   "source": [
    "def f_1(x):\n",
    "    return 20*x[0] + np.random.randn()\n",
    "\n",
    "def f_2(x):\n",
    "    return 30*x[0] + np.random.randn()"
   ]
  },
  {
   "cell_type": "code",
   "execution_count": 643,
   "metadata": {},
   "outputs": [],
   "source": [
    "n = 200 \n",
    "\n",
    "x1 = np.random.randn(n, 1)\n",
    "x2 = np.random.randn(n, 1)\n",
    "y1 = np.array([f_1(x) for x in x1])\n",
    "y2 = np.array([f_2(x) for x in x2])\n",
    "\n",
    "#X1 = np.hstack([x1, np.random.randn(n,1)]) #две выборки, когда признаки заполняются случайно\n",
    "#X2 = np.hstack([np.random.randn(n,1), x2])\n",
    "X1 = np.hstack([x1, np.zeros([n,1])])#две выборки, когда признаки заполняются нулями\n",
    "X2 = np.hstack([np.zeros([n,1]), x2])\n",
    "                \n",
    "X = np.vstack([X1, X2])\n",
    "y = np.hstack([y1, y2])\n",
    "\n"
   ]
  },
  {
   "cell_type": "code",
   "execution_count": null,
   "metadata": {},
   "outputs": [],
   "source": []
  },
  {
   "cell_type": "code",
   "execution_count": 644,
   "metadata": {},
   "outputs": [],
   "source": [
    "X_train, X_test, y_train, y_test = train_test_split(X, y, test_size = 0.15, random_state=5)"
   ]
  },
  {
   "cell_type": "code",
   "execution_count": 645,
   "metadata": {},
   "outputs": [],
   "source": [
    "lin_mod = LinearRegression()\n",
    "lin_mod.fit(X_train, y_train)\n",
    "pred = lin_mod.predict(X_test)\n",
    "metrics.mean_squared_error(y_test, pred)\n",
    "\n",
    "w1 = lin_mod.coef_[0]\n",
    "w2 = lin_mod.coef_[1]"
   ]
  },
  {
   "cell_type": "code",
   "execution_count": 646,
   "metadata": {},
   "outputs": [
    {
     "data": {
      "text/plain": [
       "array([20.02749858, 29.97984198])"
      ]
     },
     "execution_count": 646,
     "metadata": {},
     "output_type": "execute_result"
    }
   ],
   "source": [
    "lin_mod.coef_"
   ]
  },
  {
   "cell_type": "code",
   "execution_count": 647,
   "metadata": {},
   "outputs": [
    {
     "data": {
      "text/plain": [
       "(10, 10)"
      ]
     },
     "execution_count": 647,
     "metadata": {},
     "output_type": "execute_result"
    }
   ],
   "source": [
    "xx.shape"
   ]
  },
  {
   "cell_type": "code",
   "execution_count": 648,
   "metadata": {},
   "outputs": [
    {
     "data": {
      "text/plain": [
       "(10, 10)"
      ]
     },
     "execution_count": 648,
     "metadata": {},
     "output_type": "execute_result"
    }
   ],
   "source": [
    "yy.shape"
   ]
  },
  {
   "cell_type": "code",
   "execution_count": 649,
   "metadata": {},
   "outputs": [],
   "source": [
    "plt.rcParams['lines.linewidth'] = 3\n",
    "plt.rcParams['lines.markersize'] = 6\n",
    "plt.rcParams['xtick.labelsize'] = 10\n",
    "plt.rcParams['ytick.labelsize'] = 10\n",
    "plt.rcParams['legend.fontsize'] = 36\n",
    "plt.rcParams['axes.titlesize']=36\n",
    "plt.rcParams['axes.labelsize']=36\n",
    "plt.rcParams['figure.figsize'] = (8.0, 8.0)\n",
    "plt.rcParams['font.size'] = 40"
   ]
  },
  {
   "cell_type": "code",
   "execution_count": 650,
   "metadata": {},
   "outputs": [
    {
     "data": {
      "image/png": "[encoded data removed]",
      "text/plain": [
       "<Figure size 720x576 with 1 Axes>"
      ]
     },
     "metadata": {
      "needs_background": "light"
     },
     "output_type": "display_data"
    }
   ],
   "source": [
    "fig = plt.figure(figsize=(10, 8))\n",
    "\n",
    "b = [0 for i in range(n)]\n",
    "\n",
    "ax = fig.add_subplot(111, projection='3d')\n",
    "\n",
    "xx, yy = np.meshgrid(range(-5, 5), range(-5, 5))\n",
    "\n",
    "z1 = 0.0001 * np.array(xx) + w2* np.array(yy)\n",
    "z2 = w1 * np.array(xx) + 0.0001*np.array(yy)\n",
    "ax.scatter(X[0:200, 0],X[0:200, 1], y1, alpha=0.5, color='blue')\n",
    "ax.scatter(X[200:400, 0],X[200:400, 1], y2, alpha=0.5, color='red')\n",
    "#ax.scatter(y, x, z2, color='red')\n",
    "#ax.scatter(y11, x, z2, color='red')\n",
    "#ax.scatter(y22, x, z2, color='red')\n",
    "ax.plot_surface(xx, yy, z1, alpha = 0.1, color = 'red')\n",
    "ax.plot_surface(xx, yy, z2, alpha = 0.1, color = 'blue')\n",
    "ax.view_init(20,40)\n",
    "ax.set_xlabel('$x_1$', fontsize=15, fontweight=\"bold\")\n",
    "ax.set_ylabel('$x_2$', fontsize=15, fontweight=\"bold\")\n",
    "ax.set_zlabel('$y$', fontsize=15, fontweight=\"bold\")\n",
    "#ax.set_title('', fontsize=15, fontweight=\"bold\")\n",
    "savefig('experiment1-zeros.pdf')"
   ]
  },
  {
   "cell_type": "code",
   "execution_count": null,
   "metadata": {},
   "outputs": [],
   "source": []
  }
 ],
 "metadata": {
  "kernelspec": {
   "display_name": "Python 3",
   "language": "python",
   "name": "python3"
  },
  "language_info": {
   "codemirror_mode": {
    "name": "ipython",
    "version": 3
   },
   "file_extension": ".py",
   "mimetype": "text/x-python",
   "name": "python",
   "nbconvert_exporter": "python",
   "pygments_lexer": "ipython3",
   "version": "3.7.4"
  }
 },
 "nbformat": 4,
 "nbformat_minor": 2
}
